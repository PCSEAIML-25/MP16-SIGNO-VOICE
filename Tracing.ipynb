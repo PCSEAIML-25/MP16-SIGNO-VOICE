{
 "cells": [
  {
   "cell_type": "code",
   "execution_count": 1,
   "metadata": {},
   "outputs": [],
   "source": [
    "import cv2\n",
    "import numpy as np\n",
    "import os\n",
    "import matplotlib.pyplot as plt\n",
    "import time\n",
    "import mediapipe as mp\n",
    "import sklearn\n",
    "#import tensorflow"
   ]
  },
  {
   "cell_type": "code",
   "execution_count": 2,
   "metadata": {},
   "outputs": [],
   "source": [
    "mp_holistic = mp.solutions.holistic #makes detections\n",
    "mp_drawing = mp.solutions.drawing_utils #draws detections"
   ]
  },
  {
   "cell_type": "code",
   "execution_count": 3,
   "metadata": {},
   "outputs": [],
   "source": [
    "import numpy as np\n",
    "import mediapipe as mp\n",
    "\n",
    "def reconstruct_keypoints(flattened_array):\n",
    "    # Number of landmarks and features\n",
    "    num_pose_landmarks = 33\n",
    "    #num_face_landmarks = 468\n",
    "    num_hand_landmarks = 21\n",
    "    num_pose_features = 4\n",
    "    num_hand_features = 3\n",
    "    num_face_features = 3\n",
    "    \n",
    "    # Determine the indices for slicing\n",
    "    pose_end = num_pose_landmarks * num_pose_features\n",
    "    #face_end = pose_end + num_face_landmarks * num_face_features\n",
    "    lh_end = face_end + num_hand_landmarks * num_hand_features\n",
    "    rh_end = lh_end + num_hand_landmarks * num_hand_features\n",
    "\n",
    "    # Extract landmarks from flattened array\n",
    "    pose_flat = flattened_array[:pose_end]\n",
    "    #face_flat = flattened_array[pose_end:face_end]\n",
    "    lh_flat = flattened_array[face_end:lh_end]\n",
    "    rh_flat = flattened_array[lh_end:rh_end]\n",
    "\n",
    "    # Reshape back to original format\n",
    "    pose = np.reshape(pose_flat, (num_pose_landmarks, num_pose_features))\n",
    "    face = np.reshape(face_flat, (num_face_landmarks, num_face_features))\n",
    "    lh = np.reshape(lh_flat, (num_hand_landmarks, num_hand_features))\n",
    "    rh = np.reshape(rh_flat, (num_hand_landmarks, num_hand_features))\n",
    "\n",
    "    # Convert to list of tuples\n",
    "    pose_landmarks = [{'x': pose[i, 0], 'y': pose[i, 1], 'z': pose[i, 2], 'visibility': pose[i, 3]} for i in range(num_pose_landmarks)]\n",
    "    face_landmarks = [{'x': face[i, 0], 'y': face[i, 1], 'z': face[i, 2]} for i in range(num_face_landmarks)]\n",
    "    lh_landmarks = [{'x': lh[i, 0], 'y': lh[i, 1], 'z': lh[i, 2]} for i in range(num_hand_landmarks)]\n",
    "    rh_landmarks = [{'x': rh[i, 0], 'y': rh[i, 1], 'z': rh[i, 2]} for i in range(num_hand_landmarks)]\n",
    "\n",
    "    return pose_landmarks, face_landmarks, lh_landmarks, rh_landmarks\n"
   ]
  },
  {
   "cell_type": "code",
   "execution_count": 4,
   "metadata": {},
   "outputs": [],
   "source": [
    "def draw_landmarks_on_black(image_shape, face_landmarks, pose_landmarks, lh_landmarks, rh_landmarks):\n",
    "    \"\"\"Draw landmarks on a black background.\"\"\"\n",
    "    # Create a black image\n",
    "    image = np.zeros(image_shape, dtype=np.uint8)\n",
    "    \n",
    "    # Helper function to draw landmarks\n",
    "    def draw_landmark_list(landmarks, color):\n",
    "        for landmark in landmarks:\n",
    "            x = int(landmark['x'] * image_shape[1])\n",
    "            y = int(landmark['y'] * image_shape[0])\n",
    "            cv2.circle(image, (x, y), 3, color, -1)\n",
    "    \n",
    "    # Draw face landmarks\n",
    "    if face_landmarks:\n",
    "        draw_landmark_list(face_landmarks, (0, 255, 0))  # Green for face\n",
    "    \n",
    "    # Draw pose landmarks\n",
    "    if pose_landmarks:\n",
    "        draw_landmark_list(pose_landmarks, (255, 0, 0))  # Red for pose\n",
    "    \n",
    "    # Draw left hand landmarks\n",
    "    if lh_landmarks:\n",
    "        draw_landmark_list(lh_landmarks, (255, 255, 0))  # Yellow for left hand\n",
    "    \n",
    "    # Draw right hand landmarks\n",
    "    if rh_landmarks:\n",
    "        draw_landmark_list(rh_landmarks, (0, 255, 255))  # Cyan for right hand\n",
    "    \n",
    "    return image\n",
    "\n",
    "# Example usage\n",
    "\n"
   ]
  },
  {
   "cell_type": "code",
   "execution_count": 5,
   "metadata": {},
   "outputs": [
    {
     "ename": "ValueError",
     "evalue": "cannot reshape array of size 93 into shape (468,3)",
     "output_type": "error",
     "traceback": [
      "\u001b[0;31m---------------------------------------------------------------------------\u001b[0m",
      "\u001b[0;31mValueError\u001b[0m                                Traceback (most recent call last)",
      "Cell \u001b[0;32mIn[5], line 8\u001b[0m\n\u001b[1;32m      5\u001b[0m \u001b[38;5;66;03m#Projects/ISL_Translator/ISL_Data/Teacher/0/0.npy\u001b[39;00m\n\u001b[1;32m      6\u001b[0m frame \u001b[38;5;241m=\u001b[39m np\u001b[38;5;241m.\u001b[39mload(path\u001b[38;5;241m+\u001b[39m\u001b[38;5;124mf\u001b[39m\u001b[38;5;124m\"\u001b[39m\u001b[38;5;124m/\u001b[39m\u001b[38;5;132;01m{\u001b[39;00mi\u001b[38;5;132;01m}\u001b[39;00m\u001b[38;5;124m.npy\u001b[39m\u001b[38;5;124m\"\u001b[39m)\n\u001b[0;32m----> 8\u001b[0m pose_landmarks, face_landmarks, lh_landmarks, rh_landmarks \u001b[38;5;241m=\u001b[39m \u001b[43mreconstruct_keypoints\u001b[49m\u001b[43m(\u001b[49m\u001b[43mframe\u001b[49m\u001b[43m)\u001b[49m\n\u001b[1;32m     10\u001b[0m plots \u001b[38;5;241m=\u001b[39m draw_landmarks_on_black(image_shape, face_landmarks, pose_landmarks, lh_landmarks, rh_landmarks)\n\u001b[1;32m     12\u001b[0m cv2\u001b[38;5;241m.\u001b[39mimshow(\u001b[38;5;124m'\u001b[39m\u001b[38;5;124mLandmarks\u001b[39m\u001b[38;5;124m'\u001b[39m, plots)\n",
      "Cell \u001b[0;32mIn[3], line 27\u001b[0m, in \u001b[0;36mreconstruct_keypoints\u001b[0;34m(flattened_array)\u001b[0m\n\u001b[1;32m     25\u001b[0m \u001b[38;5;66;03m# Reshape back to original format\u001b[39;00m\n\u001b[1;32m     26\u001b[0m pose \u001b[38;5;241m=\u001b[39m np\u001b[38;5;241m.\u001b[39mreshape(pose_flat, (num_pose_landmarks, num_pose_features))\n\u001b[0;32m---> 27\u001b[0m face \u001b[38;5;241m=\u001b[39m \u001b[43mnp\u001b[49m\u001b[38;5;241;43m.\u001b[39;49m\u001b[43mreshape\u001b[49m\u001b[43m(\u001b[49m\u001b[43mface_flat\u001b[49m\u001b[43m,\u001b[49m\u001b[43m \u001b[49m\u001b[43m(\u001b[49m\u001b[43mnum_face_landmarks\u001b[49m\u001b[43m,\u001b[49m\u001b[43m \u001b[49m\u001b[43mnum_face_features\u001b[49m\u001b[43m)\u001b[49m\u001b[43m)\u001b[49m\n\u001b[1;32m     28\u001b[0m lh \u001b[38;5;241m=\u001b[39m np\u001b[38;5;241m.\u001b[39mreshape(lh_flat, (num_hand_landmarks, num_hand_features))\n\u001b[1;32m     29\u001b[0m rh \u001b[38;5;241m=\u001b[39m np\u001b[38;5;241m.\u001b[39mreshape(rh_flat, (num_hand_landmarks, num_hand_features))\n",
      "File \u001b[0;32m/opt/miniconda3/lib/python3.12/site-packages/numpy/core/fromnumeric.py:285\u001b[0m, in \u001b[0;36mreshape\u001b[0;34m(a, newshape, order)\u001b[0m\n\u001b[1;32m    200\u001b[0m \u001b[38;5;129m@array_function_dispatch\u001b[39m(_reshape_dispatcher)\n\u001b[1;32m    201\u001b[0m \u001b[38;5;28;01mdef\u001b[39;00m \u001b[38;5;21mreshape\u001b[39m(a, newshape, order\u001b[38;5;241m=\u001b[39m\u001b[38;5;124m'\u001b[39m\u001b[38;5;124mC\u001b[39m\u001b[38;5;124m'\u001b[39m):\n\u001b[1;32m    202\u001b[0m \u001b[38;5;250m    \u001b[39m\u001b[38;5;124;03m\"\"\"\u001b[39;00m\n\u001b[1;32m    203\u001b[0m \u001b[38;5;124;03m    Gives a new shape to an array without changing its data.\u001b[39;00m\n\u001b[1;32m    204\u001b[0m \n\u001b[0;32m   (...)\u001b[0m\n\u001b[1;32m    283\u001b[0m \u001b[38;5;124;03m           [5, 6]])\u001b[39;00m\n\u001b[1;32m    284\u001b[0m \u001b[38;5;124;03m    \"\"\"\u001b[39;00m\n\u001b[0;32m--> 285\u001b[0m     \u001b[38;5;28;01mreturn\u001b[39;00m \u001b[43m_wrapfunc\u001b[49m\u001b[43m(\u001b[49m\u001b[43ma\u001b[49m\u001b[43m,\u001b[49m\u001b[43m \u001b[49m\u001b[38;5;124;43m'\u001b[39;49m\u001b[38;5;124;43mreshape\u001b[39;49m\u001b[38;5;124;43m'\u001b[39;49m\u001b[43m,\u001b[49m\u001b[43m \u001b[49m\u001b[43mnewshape\u001b[49m\u001b[43m,\u001b[49m\u001b[43m \u001b[49m\u001b[43morder\u001b[49m\u001b[38;5;241;43m=\u001b[39;49m\u001b[43morder\u001b[49m\u001b[43m)\u001b[49m\n",
      "File \u001b[0;32m/opt/miniconda3/lib/python3.12/site-packages/numpy/core/fromnumeric.py:59\u001b[0m, in \u001b[0;36m_wrapfunc\u001b[0;34m(obj, method, *args, **kwds)\u001b[0m\n\u001b[1;32m     56\u001b[0m     \u001b[38;5;28;01mreturn\u001b[39;00m _wrapit(obj, method, \u001b[38;5;241m*\u001b[39margs, \u001b[38;5;241m*\u001b[39m\u001b[38;5;241m*\u001b[39mkwds)\n\u001b[1;32m     58\u001b[0m \u001b[38;5;28;01mtry\u001b[39;00m:\n\u001b[0;32m---> 59\u001b[0m     \u001b[38;5;28;01mreturn\u001b[39;00m \u001b[43mbound\u001b[49m\u001b[43m(\u001b[49m\u001b[38;5;241;43m*\u001b[39;49m\u001b[43margs\u001b[49m\u001b[43m,\u001b[49m\u001b[43m \u001b[49m\u001b[38;5;241;43m*\u001b[39;49m\u001b[38;5;241;43m*\u001b[39;49m\u001b[43mkwds\u001b[49m\u001b[43m)\u001b[49m\n\u001b[1;32m     60\u001b[0m \u001b[38;5;28;01mexcept\u001b[39;00m \u001b[38;5;167;01mTypeError\u001b[39;00m:\n\u001b[1;32m     61\u001b[0m     \u001b[38;5;66;03m# A TypeError occurs if the object does have such a method in its\u001b[39;00m\n\u001b[1;32m     62\u001b[0m     \u001b[38;5;66;03m# class, but its signature is not identical to that of NumPy's. This\u001b[39;00m\n\u001b[0;32m   (...)\u001b[0m\n\u001b[1;32m     66\u001b[0m     \u001b[38;5;66;03m# Call _wrapit from within the except clause to ensure a potential\u001b[39;00m\n\u001b[1;32m     67\u001b[0m     \u001b[38;5;66;03m# exception has a traceback chain.\u001b[39;00m\n\u001b[1;32m     68\u001b[0m     \u001b[38;5;28;01mreturn\u001b[39;00m _wrapit(obj, method, \u001b[38;5;241m*\u001b[39margs, \u001b[38;5;241m*\u001b[39m\u001b[38;5;241m*\u001b[39mkwds)\n",
      "\u001b[0;31mValueError\u001b[0m: cannot reshape array of size 93 into shape (468,3)"
     ]
    }
   ],
   "source": [
    "image_shape = (480, 640, 3)\n",
    "for j in range(60):\n",
    "    for i in range(30):\n",
    "        path = f\"ISL_Data_New/Why/{j}\"\n",
    "        #Projects/ISL_Translator/ISL_Data/Teacher/0/0.npy\n",
    "        frame = np.load(path+f\"/{i}.npy\")\n",
    "\n",
    "        pose_landmarks, face_landmarks, lh_landmarks, rh_landmarks = reconstruct_keypoints(frame)\n",
    "\n",
    "        plots = draw_landmarks_on_black(image_shape, face_landmarks, pose_landmarks, lh_landmarks, rh_landmarks)\n",
    "\n",
    "        cv2.imshow('Landmarks', plots)\n",
    "        cv2.waitKey(10)\n",
    "        \n",
    "        if cv2.waitKey(10) & 0xFF == ord('q'):\n",
    "            break\n",
    "cv2.destroyAllWindows()"
   ]
  },
  {
   "cell_type": "code",
   "execution_count": null,
   "metadata": {},
   "outputs": [],
   "source": []
  },
  {
   "cell_type": "code",
   "execution_count": null,
   "metadata": {},
   "outputs": [],
   "source": []
  }
 ],
 "metadata": {
  "kernelspec": {
   "display_name": "myenv",
   "language": "python",
   "name": "python3"
  },
  "language_info": {
   "codemirror_mode": {
    "name": "ipython",
    "version": 3
   },
   "file_extension": ".py",
   "mimetype": "text/x-python",
   "name": "python",
   "nbconvert_exporter": "python",
   "pygments_lexer": "ipython3",
   "version": "3.12.2"
  }
 },
 "nbformat": 4,
 "nbformat_minor": 2
}
